{
 "cells": [
  {
   "cell_type": "code",
   "execution_count": 2,
   "metadata": {},
   "outputs": [],
   "source": [
    "# 假设给定的点列表为points，每个点是一个[x, y, z]的列表\n",
    "points = [\n",
    "        [1,1,0],[1,1,0],[1,1,0],[1,1,0],\n",
    "        [1,2,0],[1,2,0],[1,2,0],\n",
    "        [1,3,0],[1,3,0],\n",
    "        [1,4,0]\n",
    "]\n",
    "\n",
    "# 由于z值都相等，我们可以只考虑(x, y)坐标\n",
    "xy_coords = [(x, y) for x, y, z in points]"
   ]
  },
  {
   "cell_type": "code",
   "execution_count": 4,
   "metadata": {},
   "outputs": [],
   "source": [
    "# 使用一个字典来记录每个(x, y)坐标出现的次数\n",
    "xy_count = {}\n",
    "for xy in xy_coords:\n",
    "    if xy in xy_count:\n",
    "        xy_count[xy] += 1\n",
    "    else:\n",
    "        xy_count[xy] = 1\n",
    "\n",
    "# 处理重复的点\n",
    "unique_points = []\n",
    "for x, y, z in points:\n",
    "    xy = (x, y)\n",
    "    if xy_count[xy] > 1:  # 如果(x, y)是重复的\n",
    "        # 对z值进行微小的偏移（这里假设z的原始值对于所有点是z0，我们逐个增加0.1）\n",
    "        # 注意：这里的z_offset应该是一个递增的变量，而不是固定的0.1，\n",
    "        # 以确保每个重复的点都有一个唯一的z值。但由于题目要求“逐个+0.1”，\n",
    "        # 我们这里简化处理，只展示概念。在实际应用中，可能需要更复杂的逻辑来分配z值。\n",
    "        z_offset = 0.1 * (xy_count[xy] - 1)  # 计算偏移量（这里只是示例，可能不是实际想要的逻辑）\n",
    "        # 但由于我们假设所有原始z值相同，这里我们直接加0.1（或递增的偏移量）来区分\n",
    "        new_z = z + z_offset  # 注意：这里可能会超出原始z值的范围，需要根据实际情况调整\n",
    "        unique_points.append([x, y, new_z])\n",
    "        xy_count[xy] -= 1  # 减少该(x, y)坐标的计数（为了模拟“逐个”处理的效果）\n",
    "    else:\n",
    "        unique_points.append([x, y, z])  # (x, y)不重复，直接添加到结果列表中"
   ]
  },
  {
   "cell_type": "code",
   "execution_count": 5,
   "metadata": {},
   "outputs": [
    {
     "name": "stdout",
     "output_type": "stream",
     "text": [
      "[1, 1, 0.30000000000000004]\n",
      "[1, 1, 0.2]\n",
      "[1, 1, 0.1]\n",
      "[1, 1, 0]\n",
      "[1, 2, 0.2]\n",
      "[1, 2, 0.1]\n",
      "[1, 2, 0]\n",
      "[1, 3, 0.1]\n",
      "[1, 3, 0]\n",
      "[1, 4, 0]\n"
     ]
    }
   ],
   "source": [
    "# 输出处理后的点列表\n",
    "for point in unique_points:\n",
    "    print(point)"
   ]
  }
 ],
 "metadata": {
  "kernelspec": {
   "display_name": "2ddetect",
   "language": "python",
   "name": "python3"
  },
  "language_info": {
   "codemirror_mode": {
    "name": "ipython",
    "version": 3
   },
   "file_extension": ".py",
   "mimetype": "text/x-python",
   "name": "python",
   "nbconvert_exporter": "python",
   "pygments_lexer": "ipython3",
   "version": "3.9.20"
  }
 },
 "nbformat": 4,
 "nbformat_minor": 2
}
